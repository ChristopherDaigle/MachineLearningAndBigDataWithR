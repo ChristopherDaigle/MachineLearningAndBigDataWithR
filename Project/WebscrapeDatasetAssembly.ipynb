{
 "cells": [
  {
   "cell_type": "code",
   "execution_count": 20,
   "metadata": {},
   "outputs": [],
   "source": [
    "import requests\n",
    "from bs4 import BeautifulSoup\n",
    "import numpy as np\n",
    "import pandas as pd\n",
    "import datetime\n",
    "from datetime import datetime\n",
    "from time import mktime "
   ]
  },
  {
   "cell_type": "markdown",
   "metadata": {},
   "source": [
    "## NEED:\n",
    "* ^DJI\n",
    "* SS Filings\n",
    "* VG Retirement Funds (expiration dates nearest present)"
   ]
  },
  {
   "cell_type": "markdown",
   "metadata": {},
   "source": [
    "# User input for iterating dataset creation"
   ]
  },
  {
   "cell_type": "code",
   "execution_count": 4,
   "metadata": {},
   "outputs": [],
   "source": [
    "def epochDateConverter(period):\n",
    "    \"\"\"\n",
    "    Returns epoch date\n",
    "    parameters: period = date in mm-dd-yyyy format\n",
    "    \"\"\"\n",
    "    month, day, year = map(date, period.split('-'))\n",
    "    period = datetime.date(year, month, day)\n",
    "    dateEpoch = int(mktime(period.timetuple()))\n",
    "\n",
    "    return dateEpoch\n",
    "    \n",
    "    \n",
    "def yahooFinance(startDateEpoch, endDateEpoch, ticker, interval):\n",
    "    \"\"\"\n",
    "    Avoids using Yahoo Finance API as many pages continue to kill and limit access\n",
    "    \"\"\"\n",
    "    pageLink = 'https://finance.yahoo.com/quote/{ticker}/history?period1={startDateEpoch}&period2={endDateEpoch}&interval={interval}&filter=history&frequency={interval}'.format(ticker = ticker,startDateEpoch = startDateEpoch, endDateEpoch = endDateEpoch, interval = interval)\n",
    "    \n",
    "    pageResponse = requests.get(pageLink)\n",
    "    pageContent = BeautifulSoup(pageResponse.content, 'html.parser')\n",
    "    tablesBody = pageContent.find_all('tbody')[0]\n",
    "    \n",
    "    # Table content\n",
    "    bodyTags = tablesBody.select(\"span\")\n",
    "    bodies = [i.get_text() for i in bodyTags]\n",
    "    bodies = np.reshape(bodies,(int((len(bodies) / 7)),7))\n",
    "    bodiesDF = pd.DataFrame(bodies)\n",
    "    \n",
    "    DF = pd.DataFrame({'Date': bodiesDF[0], 'Open': bodiesDF[1], \n",
    "                'High':bodiesDF[2], 'Low':bodiesDF[3], \n",
    "                'Close':bodiesDF[4], 'AdjClose':bodiesDF[5], \n",
    "                'Volume':bodiesDF[6]})\n",
    "    return DF\n",
    "\n",
    "startDate = input('Enter the start date of interest (mm-dd-yyyy): ')\n",
    "startDateEpoch = epochDateConverter(startDate)\n",
    "    \n",
    "endDate = input('Enter the end date of interest (mm-dd-yyyy): ')\n",
    "endDateEpoch = epochDateConverter(endDate)\n",
    "    \n",
    "interval = input('Enter 1d for daily, 1wk for weekly, and 1mo for monthly: ')\n",
    "ticker = input('Enter the ticker symbol of interest: ')"
   ]
  },
  {
   "cell_type": "code",
   "execution_count": null,
   "metadata": {},
   "outputs": [],
   "source": [
    "ticker = input('Enter the ticker symbol of interest: ')\n",
    "pageLink = 'https://finance.yahoo.com/quote/{ticker}/history?period1=1509422400&period2=1540958400&interval=1d&filter=history&frequency=1d'.format(ticker = ticker)\n",
    "pageLink"
   ]
  },
  {
   "cell_type": "markdown",
   "metadata": {},
   "source": [
    "## DJI"
   ]
  },
  {
   "cell_type": "code",
   "execution_count": 2,
   "metadata": {},
   "outputs": [],
   "source": [
    "pageLink = 'https://finance.yahoo.com/quote/^DJI/history?period1=1509422400&period2=1540958400&interval=1d&filter=history&frequency=1d'\n",
    "pageResponse = requests.get(pageLink)\n",
    "pageContent = BeautifulSoup(pageResponse.content, 'html.parser')\n",
    "tablesHead = pageContent.find_all('thead')[0]\n",
    "tablesBody = pageContent.find_all('tbody')[0]"
   ]
  },
  {
   "cell_type": "code",
   "execution_count": 3,
   "metadata": {},
   "outputs": [],
   "source": [
    "# Table headings\n",
    "headingTags = tablesHead.select(\"span\")\n",
    "headings = [i.get_text() for i in headingTags]\n",
    "# Table content\n",
    "bodyTags = tablesBody.select(\"span\")\n",
    "bodies = [i.get_text() for i in bodyTags]\n",
    "bodies = np.reshape(bodies,(int((len(bodies) / 7)),7))\n",
    "bodiesDF = pd.DataFrame(bodies)"
   ]
  },
  {
   "cell_type": "code",
   "execution_count": 4,
   "metadata": {},
   "outputs": [],
   "source": [
    "DJI = pd.DataFrame({'Date': bodiesDF[0], 'Open': bodiesDF[1], \n",
    "                    'High':bodiesDF[2], 'Low':bodiesDF[3], \n",
    "                    'Close':bodiesDF[4], 'AdjClose':bodiesDF[5], \n",
    "                    'Volume':bodiesDF[6]})"
   ]
  },
  {
   "cell_type": "code",
   "execution_count": 5,
   "metadata": {},
   "outputs": [
    {
     "data": {
      "text/html": [
       "<div>\n",
       "<style scoped>\n",
       "    .dataframe tbody tr th:only-of-type {\n",
       "        vertical-align: middle;\n",
       "    }\n",
       "\n",
       "    .dataframe tbody tr th {\n",
       "        vertical-align: top;\n",
       "    }\n",
       "\n",
       "    .dataframe thead th {\n",
       "        text-align: right;\n",
       "    }\n",
       "</style>\n",
       "<table border=\"1\" class=\"dataframe\">\n",
       "  <thead>\n",
       "    <tr style=\"text-align: right;\">\n",
       "      <th></th>\n",
       "      <th>Date</th>\n",
       "      <th>Open</th>\n",
       "      <th>High</th>\n",
       "      <th>Low</th>\n",
       "      <th>Close</th>\n",
       "      <th>AdjClose</th>\n",
       "      <th>Volume</th>\n",
       "    </tr>\n",
       "  </thead>\n",
       "  <tbody>\n",
       "    <tr>\n",
       "      <th>0</th>\n",
       "      <td>Oct 31, 2018</td>\n",
       "      <td>25,008.82</td>\n",
       "      <td>25,336.55</td>\n",
       "      <td>25,008.82</td>\n",
       "      <td>25,115.76</td>\n",
       "      <td>25,115.76</td>\n",
       "      <td>448,930,000</td>\n",
       "    </tr>\n",
       "    <tr>\n",
       "      <th>1</th>\n",
       "      <td>Oct 30, 2018</td>\n",
       "      <td>24,482.04</td>\n",
       "      <td>24,906.68</td>\n",
       "      <td>24,415.69</td>\n",
       "      <td>24,874.64</td>\n",
       "      <td>24,874.64</td>\n",
       "      <td>470,050,000</td>\n",
       "    </tr>\n",
       "    <tr>\n",
       "      <th>2</th>\n",
       "      <td>Oct 29, 2018</td>\n",
       "      <td>24,818.98</td>\n",
       "      <td>25,040.58</td>\n",
       "      <td>24,122.23</td>\n",
       "      <td>24,442.92</td>\n",
       "      <td>24,442.92</td>\n",
       "      <td>443,850,000</td>\n",
       "    </tr>\n",
       "    <tr>\n",
       "      <th>3</th>\n",
       "      <td>Oct 26, 2018</td>\n",
       "      <td>24,770.25</td>\n",
       "      <td>24,916.16</td>\n",
       "      <td>24,445.19</td>\n",
       "      <td>24,688.31</td>\n",
       "      <td>24,688.31</td>\n",
       "      <td>505,310,000</td>\n",
       "    </tr>\n",
       "    <tr>\n",
       "      <th>4</th>\n",
       "      <td>Oct 25, 2018</td>\n",
       "      <td>24,736.54</td>\n",
       "      <td>25,104.29</td>\n",
       "      <td>24,645.56</td>\n",
       "      <td>24,984.55</td>\n",
       "      <td>24,984.55</td>\n",
       "      <td>439,670,000</td>\n",
       "    </tr>\n",
       "  </tbody>\n",
       "</table>\n",
       "</div>"
      ],
      "text/plain": [
       "           Date       Open       High        Low      Close   AdjClose  \\\n",
       "0  Oct 31, 2018  25,008.82  25,336.55  25,008.82  25,115.76  25,115.76   \n",
       "1  Oct 30, 2018  24,482.04  24,906.68  24,415.69  24,874.64  24,874.64   \n",
       "2  Oct 29, 2018  24,818.98  25,040.58  24,122.23  24,442.92  24,442.92   \n",
       "3  Oct 26, 2018  24,770.25  24,916.16  24,445.19  24,688.31  24,688.31   \n",
       "4  Oct 25, 2018  24,736.54  25,104.29  24,645.56  24,984.55  24,984.55   \n",
       "\n",
       "        Volume  \n",
       "0  448,930,000  \n",
       "1  470,050,000  \n",
       "2  443,850,000  \n",
       "3  505,310,000  \n",
       "4  439,670,000  "
      ]
     },
     "execution_count": 5,
     "metadata": {},
     "output_type": "execute_result"
    }
   ],
   "source": [
    "DJI.head()"
   ]
  },
  {
   "cell_type": "markdown",
   "metadata": {},
   "source": [
    "## Social Security"
   ]
  },
  {
   "cell_type": "code",
   "execution_count": 7,
   "metadata": {},
   "outputs": [
    {
     "data": {
      "text/plain": [
       "<Response [200]>"
      ]
     },
     "execution_count": 7,
     "metadata": {},
     "output_type": "execute_result"
    }
   ],
   "source": [
    "pageLink = 'https://www.ssa.gov/policy/docs/quickfacts/stat_snapshot/'\n",
    "pageResponse = requests.get(pageLink)\n",
    "pageContent = BeautifulSoup(pageResponse.content, 'html.parser')\n",
    "pageResponse"
   ]
  },
  {
   "cell_type": "code",
   "execution_count": 59,
   "metadata": {},
   "outputs": [
    {
     "data": {
      "text/plain": [
       "<thead>\n",
       "<tr>\n",
       "<th class=\"stubHeading\" scope=\"col\">Type of beneficiary</th>\n",
       "<th scope=\"col\">Total</th>\n",
       "<th scope=\"col\">Social Security only</th>\n",
       "<th scope=\"col\"><abbr class=\"spell\">SSI</abbr> only</th>\n",
       "<th scope=\"col\">Both Social Security and <abbr class=\"spell\">SSI</abbr></th>\n",
       "</tr>\n",
       "</thead>"
      ]
     },
     "execution_count": 59,
     "metadata": {},
     "output_type": "execute_result"
    }
   ],
   "source": [
    "SSTable = pageContent.find_all(id = 'table1')\n",
    "SSTable[0].find('thead')"
   ]
  },
  {
   "cell_type": "code",
   "execution_count": 62,
   "metadata": {},
   "outputs": [
    {
     "name": "stdout",
     "output_type": "stream",
     "text": [
      "<div class=\"table clear\" id=\"table1\">\n",
      " <table>\n",
      "  <caption>\n",
      "   <span class=\"tableNumber\">\n",
      "    Table 1.\n",
      "   </span>\n",
      "   Number of people receiving Social Security, Supplemental Security Income (\n",
      "   <abbr class=\"spell\">\n",
      "    SSI\n",
      "   </abbr>\n",
      "   ), or both, September 2018 (in thousands)\n",
      "  </caption>\n",
      "  <colgroup span=\"1\" style=\"width:15em\">\n",
      "  </colgroup>\n",
      "  <colgroup span=\"4\" style=\"width:10em\">\n",
      "  </colgroup>\n",
      "  <thead>\n",
      "   <tr>\n",
      "    <th class=\"stubHeading\" scope=\"col\">\n",
      "     Type of beneficiary\n",
      "    </th>\n",
      "    <th scope=\"col\">\n",
      "     Total\n",
      "    </th>\n",
      "    <th scope=\"col\">\n",
      "     Social Security only\n",
      "    </th>\n",
      "    <th scope=\"col\">\n",
      "     <abbr class=\"spell\">\n",
      "      SSI\n",
      "     </abbr>\n",
      "     only\n",
      "    </th>\n",
      "    <th scope=\"col\">\n",
      "     Both Social Security and\n",
      "     <abbr class=\"spell\">\n",
      "      SSI\n",
      "     </abbr>\n",
      "    </th>\n",
      "   </tr>\n",
      "  </thead>\n",
      "  <tbody>\n",
      "   <tr>\n",
      "    <th class=\"stub1\" scope=\"row\">\n",
      "     All beneficiaries\n",
      "    </th>\n",
      "    <td>\n",
      "     67,677\n",
      "    </td>\n",
      "    <td>\n",
      "     59,523\n",
      "    </td>\n",
      "    <td>\n",
      "     5,427\n",
      "    </td>\n",
      "    <td>\n",
      "     2,727\n",
      "    </td>\n",
      "   </tr>\n",
      "   <tr>\n",
      "    <th class=\"stub0\" scope=\"row\">\n",
      "     Aged 65 or older\n",
      "    </th>\n",
      "    <td>\n",
      "     47,719\n",
      "    </td>\n",
      "    <td>\n",
      "     45,461\n",
      "    </td>\n",
      "    <td>\n",
      "     991\n",
      "    </td>\n",
      "    <td>\n",
      "     1,267\n",
      "    </td>\n",
      "   </tr>\n",
      "   <tr>\n",
      "    <th class=\"stub0\" scope=\"row\">\n",
      "     Disabled, under age 65\n",
      "     <sup>\n",
      "      a\n",
      "     </sup>\n",
      "    </th>\n",
      "    <td>\n",
      "     13,699\n",
      "    </td>\n",
      "    <td>\n",
      "     7,803\n",
      "    </td>\n",
      "    <td>\n",
      "     4,436\n",
      "    </td>\n",
      "    <td>\n",
      "     1,461\n",
      "    </td>\n",
      "   </tr>\n",
      "   <tr>\n",
      "    <th class=\"stub0\" scope=\"row\">\n",
      "     Other\n",
      "     <sup>\n",
      "      b\n",
      "     </sup>\n",
      "    </th>\n",
      "    <td>\n",
      "     6,259\n",
      "    </td>\n",
      "    <td>\n",
      "     6,259\n",
      "    </td>\n",
      "    <td>\n",
      "     . . .\n",
      "    </td>\n",
      "    <td>\n",
      "     . . .\n",
      "    </td>\n",
      "   </tr>\n",
      "  </tbody>\n",
      "  <tfoot>\n",
      "   <tr>\n",
      "    <td class=\"firstNote\" colspan=\"5\">\n",
      "     SOURCES: Social Security Administration, Master Beneficiary Record and Supplemental Security Record, 100 percent data.\n",
      "    </td>\n",
      "   </tr>\n",
      "   <tr>\n",
      "    <td class=\"note\" colspan=\"5\">\n",
      "     NOTES: Social Security beneficiaries who are entitled to a primary and a secondary benefit (dual entitlement) are counted only once in this table.\n",
      "     <abbr class=\"spell\">\n",
      "      SSI\n",
      "     </abbr>\n",
      "     counts include recipients of federal\n",
      "     <abbr class=\"spell\">\n",
      "      SSI\n",
      "     </abbr>\n",
      "     , federally administered state supplementation, or both.\n",
      "    </td>\n",
      "   </tr>\n",
      "   <tr>\n",
      "    <td class=\"note\" colspan=\"5\">\n",
      "     . . . = not applicable.\n",
      "    </td>\n",
      "   </tr>\n",
      "   <tr>\n",
      "    <td class=\"note\" colspan=\"5\">\n",
      "     a. Includes children receiving\n",
      "     <abbr class=\"spell\">\n",
      "      SSI\n",
      "     </abbr>\n",
      "     based on their own disability.\n",
      "    </td>\n",
      "   </tr>\n",
      "   <tr>\n",
      "    <td class=\"note\" colspan=\"5\">\n",
      "     b. Social Security beneficiaries who are neither aged nor disabled (for example, early retirees, young survivors).\n",
      "    </td>\n",
      "   </tr>\n",
      "   <tr>\n",
      "    <td class=\"lastNote\" colspan=\"5\">\n",
      "     CONTACT:\n",
      "     <span class=\"nobr\">\n",
      "      (410) 965-0090\n",
      "     </span>\n",
      "     or\n",
      "     <a href=\"mailto:statistics@ssa.gov\">\n",
      "      statistics@ssa.gov\n",
      "     </a>\n",
      "     .\n",
      "    </td>\n",
      "   </tr>\n",
      "  </tfoot>\n",
      " </table>\n",
      "</div>\n",
      "\n"
     ]
    }
   ],
   "source": [
    "print(SSTable[0].prettify())"
   ]
  },
  {
   "cell_type": "code",
   "execution_count": 19,
   "metadata": {},
   "outputs": [
    {
     "data": {
      "text/plain": [
       "[<th class=\"stubHeading\" scope=\"col\">Type of beneficiary</th>,\n",
       " <th scope=\"col\">Total</th>,\n",
       " <th scope=\"col\">Social Security only</th>,\n",
       " <th scope=\"col\"><abbr class=\"spell\">SSI</abbr> only</th>,\n",
       " <th scope=\"col\">Both Social Security and <abbr class=\"spell\">SSI</abbr></th>,\n",
       " <th class=\"stub1\" scope=\"row\">All beneficiaries</th>,\n",
       " <th class=\"stub0\" scope=\"row\">Aged 65 or older</th>,\n",
       " <th class=\"stub0\" scope=\"row\">Disabled, under age 65 <sup>a</sup></th>,\n",
       " <th class=\"stub0\" scope=\"row\">Other <sup>b</sup></th>,\n",
       " <th class=\"stubHeading\" id=\"c1\" rowspan=\"2\">Type of beneficiary</th>,\n",
       " <th class=\"spanner\" colspan=\"2\" id=\"c2\">Beneficiaries</th>,\n",
       " <th id=\"c3\" rowspan=\"2\">Total monthly benefits (millions of dollars)</th>,\n",
       " <th id=\"c4\" rowspan=\"2\">Average monthly benefit (dollars)</th>,\n",
       " <th headers=\"c2\" id=\"c5\">Number (thousands)</th>,\n",
       " <th headers=\"c2\" id=\"c6\">Percent</th>,\n",
       " <th class=\"stub3\" headers=\"c1\" id=\"r1\">Total</th>,\n",
       " <th class=\"stub0\" headers=\"c1\" id=\"r2\">Old-Age and Survivors Insurance</th>,\n",
       " <th class=\"stub1\" headers=\"r2 c1\" id=\"r3\">Retirement benefits</th>,\n",
       " <th class=\"stub2\" headers=\"r2 r3 c1\" id=\"r4\">Retired workers</th>,\n",
       " <th class=\"stub2\" headers=\"r2 r3 c1\" id=\"r5\">Spouses of retired workers</th>,\n",
       " <th class=\"stub2\" headers=\"r2 r3 c1\" id=\"r6\">Children of retired workers</th>,\n",
       " <th class=\"stub1\" headers=\"r2 c1\" id=\"r7\">Survivor benefits</th>,\n",
       " <th class=\"stub2\" headers=\"r2 r7 c1\" id=\"r8\">Children of deceased workers</th>,\n",
       " <th class=\"stub2\" headers=\"r2 r7 c1\" id=\"r9\">Widowed mothers and fathers</th>,\n",
       " <th class=\"stub2\" headers=\"r2 r7 c1\" id=\"r10\">Nondisabled <span class=\"nobr\">widow(er)s</span></th>,\n",
       " <th class=\"stub2\" headers=\"r2 r7 c1\" id=\"r11\">Disabled <span class=\"nobr\">widow(er)s</span></th>,\n",
       " <th class=\"stub2\" headers=\"r2 r7 c1\" id=\"r12\">Parents of deceased workers</th>,\n",
       " <th class=\"stub0\" headers=\"c1\" id=\"r13\">Disability Insurance</th>,\n",
       " <th class=\"stub1\" headers=\"r13 c1\" id=\"r14\">Disabled workers</th>,\n",
       " <th class=\"stub1\" headers=\"r13 c1\" id=\"r15\">Spouses of disabled workers</th>,\n",
       " <th class=\"stub1\" headers=\"r13 c1\" id=\"r16\">Children of disabled workers</th>,\n",
       " <th class=\"stubHeading\" rowspan=\"2\" scope=\"colgroup\">Age</th>,\n",
       " <th class=\"spanner\" colspan=\"2\" scope=\"colgroup\">Recipients</th>,\n",
       " <th rowspan=\"2\" scope=\"colgroup\">Total payments <sup>a</sup> (millions of dollars)</th>,\n",
       " <th rowspan=\"2\" scope=\"colgroup\">Average monthly payment <sup>b</sup> (dollars)</th>,\n",
       " <th scope=\"col\">Number (thousands)</th>,\n",
       " <th scope=\"col\">Percent</th>,\n",
       " <th class=\"stub1\" scope=\"row\">All recipients</th>,\n",
       " <th class=\"stub0\" scope=\"row\">Under 18</th>,\n",
       " <th class=\"stub0\" scope=\"row\"><span class=\"nobr\">18–64</span></th>,\n",
       " <th class=\"stub0\" scope=\"row\">65 or older</th>]"
      ]
     },
     "execution_count": 19,
     "metadata": {},
     "output_type": "execute_result"
    }
   ],
   "source": [
    "headings = [i.get_text() for i in bodyTags]\n"
   ]
  },
  {
   "cell_type": "code",
   "execution_count": 25,
   "metadata": {},
   "outputs": [
    {
     "ename": "SyntaxError",
     "evalue": "can't assign to function call (<ipython-input-25-2e5b68104fc0>, line 8)",
     "output_type": "error",
     "traceback": [
      "\u001b[0;36m  File \u001b[0;32m\"<ipython-input-25-2e5b68104fc0>\"\u001b[0;36m, line \u001b[0;32m8\u001b[0m\n\u001b[0;31m    url.iloc(i,j) = 'https://www.ssa.gov/policy/docs/quickfacts/stat_snapshot/{year}-{month}'.format(year = i, month = j)\u001b[0m\n\u001b[0m    ^\u001b[0m\n\u001b[0;31mSyntaxError\u001b[0m\u001b[0;31m:\u001b[0m can't assign to function call\n"
     ]
    }
   ],
   "source": [
    "year = list(range(2012,2019))\n",
    "year\n",
    "month = [\"%.2d\" % i for i in range(1,13)]\n",
    "month\n",
    "\n",
    "for i in year:\n",
    "    for j in month:\n",
    "        url = 'https://www.ssa.gov/policy/docs/quickfacts/stat_snapshot/{year}-{month}'.format(year = i, month = j)\n",
    "        \n",
    "dateURL = pd.DataFrame({'year': year, 'month': month})"
   ]
  },
  {
   "cell_type": "code",
   "execution_count": 26,
   "metadata": {},
   "outputs": [
    {
     "ename": "ValueError",
     "evalue": "arrays must all be same length",
     "output_type": "error",
     "traceback": [
      "\u001b[0;31m---------------------------------------------------------------------------\u001b[0m",
      "\u001b[0;31mValueError\u001b[0m                                Traceback (most recent call last)",
      "\u001b[0;32m<ipython-input-26-41fc9905c060>\u001b[0m in \u001b[0;36m<module>\u001b[0;34m\u001b[0m\n\u001b[0;32m----> 1\u001b[0;31m \u001b[0mdateURL\u001b[0m \u001b[0;34m=\u001b[0m \u001b[0mpd\u001b[0m\u001b[0;34m.\u001b[0m\u001b[0mDataFrame\u001b[0m\u001b[0;34m(\u001b[0m\u001b[0;34m{\u001b[0m\u001b[0;34m'year'\u001b[0m\u001b[0;34m:\u001b[0m \u001b[0myear\u001b[0m\u001b[0;34m,\u001b[0m \u001b[0;34m'month'\u001b[0m\u001b[0;34m:\u001b[0m \u001b[0mmonth\u001b[0m\u001b[0;34m}\u001b[0m\u001b[0;34m)\u001b[0m\u001b[0;34m\u001b[0m\u001b[0m\n\u001b[0m",
      "\u001b[0;32m~/anaconda3/lib/python3.6/site-packages/pandas/core/frame.py\u001b[0m in \u001b[0;36m__init__\u001b[0;34m(self, data, index, columns, dtype, copy)\u001b[0m\n\u001b[1;32m    346\u001b[0m                                  dtype=dtype, copy=copy)\n\u001b[1;32m    347\u001b[0m         \u001b[0;32melif\u001b[0m \u001b[0misinstance\u001b[0m\u001b[0;34m(\u001b[0m\u001b[0mdata\u001b[0m\u001b[0;34m,\u001b[0m \u001b[0mdict\u001b[0m\u001b[0;34m)\u001b[0m\u001b[0;34m:\u001b[0m\u001b[0;34m\u001b[0m\u001b[0m\n\u001b[0;32m--> 348\u001b[0;31m             \u001b[0mmgr\u001b[0m \u001b[0;34m=\u001b[0m \u001b[0mself\u001b[0m\u001b[0;34m.\u001b[0m\u001b[0m_init_dict\u001b[0m\u001b[0;34m(\u001b[0m\u001b[0mdata\u001b[0m\u001b[0;34m,\u001b[0m \u001b[0mindex\u001b[0m\u001b[0;34m,\u001b[0m \u001b[0mcolumns\u001b[0m\u001b[0;34m,\u001b[0m \u001b[0mdtype\u001b[0m\u001b[0;34m=\u001b[0m\u001b[0mdtype\u001b[0m\u001b[0;34m)\u001b[0m\u001b[0;34m\u001b[0m\u001b[0m\n\u001b[0m\u001b[1;32m    349\u001b[0m         \u001b[0;32melif\u001b[0m \u001b[0misinstance\u001b[0m\u001b[0;34m(\u001b[0m\u001b[0mdata\u001b[0m\u001b[0;34m,\u001b[0m \u001b[0mma\u001b[0m\u001b[0;34m.\u001b[0m\u001b[0mMaskedArray\u001b[0m\u001b[0;34m)\u001b[0m\u001b[0;34m:\u001b[0m\u001b[0;34m\u001b[0m\u001b[0m\n\u001b[1;32m    350\u001b[0m             \u001b[0;32mimport\u001b[0m \u001b[0mnumpy\u001b[0m\u001b[0;34m.\u001b[0m\u001b[0mma\u001b[0m\u001b[0;34m.\u001b[0m\u001b[0mmrecords\u001b[0m \u001b[0;32mas\u001b[0m \u001b[0mmrecords\u001b[0m\u001b[0;34m\u001b[0m\u001b[0m\n",
      "\u001b[0;32m~/anaconda3/lib/python3.6/site-packages/pandas/core/frame.py\u001b[0m in \u001b[0;36m_init_dict\u001b[0;34m(self, data, index, columns, dtype)\u001b[0m\n\u001b[1;32m    457\u001b[0m             \u001b[0marrays\u001b[0m \u001b[0;34m=\u001b[0m \u001b[0;34m[\u001b[0m\u001b[0mdata\u001b[0m\u001b[0;34m[\u001b[0m\u001b[0mk\u001b[0m\u001b[0;34m]\u001b[0m \u001b[0;32mfor\u001b[0m \u001b[0mk\u001b[0m \u001b[0;32min\u001b[0m \u001b[0mkeys\u001b[0m\u001b[0;34m]\u001b[0m\u001b[0;34m\u001b[0m\u001b[0m\n\u001b[1;32m    458\u001b[0m \u001b[0;34m\u001b[0m\u001b[0m\n\u001b[0;32m--> 459\u001b[0;31m         \u001b[0;32mreturn\u001b[0m \u001b[0m_arrays_to_mgr\u001b[0m\u001b[0;34m(\u001b[0m\u001b[0marrays\u001b[0m\u001b[0;34m,\u001b[0m \u001b[0mdata_names\u001b[0m\u001b[0;34m,\u001b[0m \u001b[0mindex\u001b[0m\u001b[0;34m,\u001b[0m \u001b[0mcolumns\u001b[0m\u001b[0;34m,\u001b[0m \u001b[0mdtype\u001b[0m\u001b[0;34m=\u001b[0m\u001b[0mdtype\u001b[0m\u001b[0;34m)\u001b[0m\u001b[0;34m\u001b[0m\u001b[0m\n\u001b[0m\u001b[1;32m    460\u001b[0m \u001b[0;34m\u001b[0m\u001b[0m\n\u001b[1;32m    461\u001b[0m     \u001b[0;32mdef\u001b[0m \u001b[0m_init_ndarray\u001b[0m\u001b[0;34m(\u001b[0m\u001b[0mself\u001b[0m\u001b[0;34m,\u001b[0m \u001b[0mvalues\u001b[0m\u001b[0;34m,\u001b[0m \u001b[0mindex\u001b[0m\u001b[0;34m,\u001b[0m \u001b[0mcolumns\u001b[0m\u001b[0;34m,\u001b[0m \u001b[0mdtype\u001b[0m\u001b[0;34m=\u001b[0m\u001b[0;32mNone\u001b[0m\u001b[0;34m,\u001b[0m \u001b[0mcopy\u001b[0m\u001b[0;34m=\u001b[0m\u001b[0;32mFalse\u001b[0m\u001b[0;34m)\u001b[0m\u001b[0;34m:\u001b[0m\u001b[0;34m\u001b[0m\u001b[0m\n",
      "\u001b[0;32m~/anaconda3/lib/python3.6/site-packages/pandas/core/frame.py\u001b[0m in \u001b[0;36m_arrays_to_mgr\u001b[0;34m(arrays, arr_names, index, columns, dtype)\u001b[0m\n\u001b[1;32m   7354\u001b[0m     \u001b[0;31m# figure out the index, if necessary\u001b[0m\u001b[0;34m\u001b[0m\u001b[0;34m\u001b[0m\u001b[0m\n\u001b[1;32m   7355\u001b[0m     \u001b[0;32mif\u001b[0m \u001b[0mindex\u001b[0m \u001b[0;32mis\u001b[0m \u001b[0;32mNone\u001b[0m\u001b[0;34m:\u001b[0m\u001b[0;34m\u001b[0m\u001b[0m\n\u001b[0;32m-> 7356\u001b[0;31m         \u001b[0mindex\u001b[0m \u001b[0;34m=\u001b[0m \u001b[0mextract_index\u001b[0m\u001b[0;34m(\u001b[0m\u001b[0marrays\u001b[0m\u001b[0;34m)\u001b[0m\u001b[0;34m\u001b[0m\u001b[0m\n\u001b[0m\u001b[1;32m   7357\u001b[0m \u001b[0;34m\u001b[0m\u001b[0m\n\u001b[1;32m   7358\u001b[0m     \u001b[0;31m# don't force copy because getting jammed in an ndarray anyway\u001b[0m\u001b[0;34m\u001b[0m\u001b[0;34m\u001b[0m\u001b[0m\n",
      "\u001b[0;32m~/anaconda3/lib/python3.6/site-packages/pandas/core/frame.py\u001b[0m in \u001b[0;36mextract_index\u001b[0;34m(data)\u001b[0m\n\u001b[1;32m   7400\u001b[0m             \u001b[0mlengths\u001b[0m \u001b[0;34m=\u001b[0m \u001b[0mlist\u001b[0m\u001b[0;34m(\u001b[0m\u001b[0mset\u001b[0m\u001b[0;34m(\u001b[0m\u001b[0mraw_lengths\u001b[0m\u001b[0;34m)\u001b[0m\u001b[0;34m)\u001b[0m\u001b[0;34m\u001b[0m\u001b[0m\n\u001b[1;32m   7401\u001b[0m             \u001b[0;32mif\u001b[0m \u001b[0mlen\u001b[0m\u001b[0;34m(\u001b[0m\u001b[0mlengths\u001b[0m\u001b[0;34m)\u001b[0m \u001b[0;34m>\u001b[0m \u001b[0;36m1\u001b[0m\u001b[0;34m:\u001b[0m\u001b[0;34m\u001b[0m\u001b[0m\n\u001b[0;32m-> 7402\u001b[0;31m                 \u001b[0;32mraise\u001b[0m \u001b[0mValueError\u001b[0m\u001b[0;34m(\u001b[0m\u001b[0;34m'arrays must all be same length'\u001b[0m\u001b[0;34m)\u001b[0m\u001b[0;34m\u001b[0m\u001b[0m\n\u001b[0m\u001b[1;32m   7403\u001b[0m \u001b[0;34m\u001b[0m\u001b[0m\n\u001b[1;32m   7404\u001b[0m             \u001b[0;32mif\u001b[0m \u001b[0mhave_dicts\u001b[0m\u001b[0;34m:\u001b[0m\u001b[0;34m\u001b[0m\u001b[0m\n",
      "\u001b[0;31mValueError\u001b[0m: arrays must all be same length"
     ]
    }
   ],
   "source": [
    "dateURL = pd.DataFrame({'year': year, 'month': month})"
   ]
  },
  {
   "cell_type": "code",
   "execution_count": 22,
   "metadata": {},
   "outputs": [
    {
     "ename": "SyntaxError",
     "evalue": "invalid syntax (<ipython-input-22-f903f69c25cb>, line 3)",
     "output_type": "error",
     "traceback": [
      "\u001b[0;36m  File \u001b[0;32m\"<ipython-input-22-f903f69c25cb>\"\u001b[0;36m, line \u001b[0;32m3\u001b[0m\n\u001b[0;31m    'SSIOnly':bodiesDF[4], 'BothSocialSecurityAndSSI':bodiesDF[5])\u001b[0m\n\u001b[0m                                                                 ^\u001b[0m\n\u001b[0;31mSyntaxError\u001b[0m\u001b[0;31m:\u001b[0m invalid syntax\n"
     ]
    }
   ],
   "source": [
    "SS = pd.DataFrame({'Date': bodiesDF[0], 'TypeOfBeneiciary': bodiesDF[1], \n",
    "                    'Total':bodiesDF[2], 'SocialSecurityOnly':bodiesDF[3], \n",
    "                    'SSIOnly':bodiesDF[4], 'BothSocialSecurityAndSSI':bodiesDF[5])"
   ]
  },
  {
   "cell_type": "code",
   "execution_count": 21,
   "metadata": {},
   "outputs": [
    {
     "ename": "TypeError",
     "evalue": "'type' object is not subscriptable",
     "output_type": "error",
     "traceback": [
      "\u001b[0;31m---------------------------------------------------------------------------\u001b[0m",
      "\u001b[0;31mTypeError\u001b[0m                                 Traceback (most recent call last)",
      "\u001b[0;32m<ipython-input-21-302447b3a32d>\u001b[0m in \u001b[0;36m<module>\u001b[0;34m\u001b[0m\n\u001b[0;32m----> 1\u001b[0;31m \u001b[0murl\u001b[0m \u001b[0;34m=\u001b[0m \u001b[0mpd\u001b[0m\u001b[0;34m.\u001b[0m\u001b[0mDataFrame\u001b[0m\u001b[0;34m[\u001b[0m\u001b[0;34m[\u001b[0m\u001b[0;34m'a'\u001b[0m\u001b[0;34m,\u001b[0m \u001b[0;34m'b'\u001b[0m\u001b[0;34m,\u001b[0m \u001b[0;34m'c'\u001b[0m\u001b[0;34m]\u001b[0m\u001b[0;34m,\u001b[0m\u001b[0;34m[\u001b[0m\u001b[0;34m'd'\u001b[0m\u001b[0;34m,\u001b[0m \u001b[0;34m'e'\u001b[0m\u001b[0;34m,\u001b[0m \u001b[0;34m'f'\u001b[0m\u001b[0;34m]\u001b[0m\u001b[0;34m]\u001b[0m\u001b[0;34m\u001b[0m\u001b[0m\n\u001b[0m\u001b[1;32m      2\u001b[0m \u001b[0murl\u001b[0m\u001b[0;34m\u001b[0m\u001b[0m\n",
      "\u001b[0;31mTypeError\u001b[0m: 'type' object is not subscriptable"
     ]
    }
   ],
   "source": [
    "url = pd.DataFrame[['a', 'b', 'c'],['d', 'e', 'f']]\n",
    "url"
   ]
  },
  {
   "cell_type": "code",
   "execution_count": null,
   "metadata": {},
   "outputs": [],
   "source": []
  }
 ],
 "metadata": {
  "kernelspec": {
   "display_name": "Python 3",
   "language": "python",
   "name": "python3"
  },
  "language_info": {
   "codemirror_mode": {
    "name": "ipython",
    "version": 3
   },
   "file_extension": ".py",
   "mimetype": "text/x-python",
   "name": "python",
   "nbconvert_exporter": "python",
   "pygments_lexer": "ipython3",
   "version": "3.6.6"
  }
 },
 "nbformat": 4,
 "nbformat_minor": 2
}
