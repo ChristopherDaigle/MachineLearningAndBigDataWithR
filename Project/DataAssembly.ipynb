{
 "cells": [
  {
   "cell_type": "markdown",
   "metadata": {},
   "source": [
    "# Data Assembly"
   ]
  },
  {
   "cell_type": "code",
   "execution_count": 1,
   "metadata": {},
   "outputs": [],
   "source": [
    "import pandas as pd\n",
    "import numpy as np"
   ]
  },
  {
   "cell_type": "code",
   "execution_count": 2,
   "metadata": {},
   "outputs": [],
   "source": [
    "DJI = pd.read_csv(\n",
    "    '~/Git/MachineLearningAndBigDataWithR/Data/^DJIMonthly.csv'\n",
    "    , sep = ',')\n",
    "SP500 = pd.read_csv(\n",
    "    '~/Git/MachineLearningAndBigDataWithR/Data/^GSPCMonthly.csv'\n",
    "    , sep = ',')\n",
    "FedFunds = pd.read_csv(\n",
    "    '~/Git/MachineLearningAndBigDataWithR/Data/FEDFUNDS.csv'\n",
    "    , sep = ',')\n",
    "SS = pd.read_csv(\n",
    "    '~/Git/MachineLearningAndBigDataWithR/Data/SSRetired.csv'\n",
    "    , sep = ',')\n",
    "CPI = pd.read_csv(\n",
    "    '~/Git/MachineLearningAndBigDataWithR/Data/CPIAUCSL.csv'\n",
    "    , sep = ',')"
   ]
  },
  {
   "cell_type": "markdown",
   "metadata": {},
   "source": [
    "### DJI\n",
    "https://finance.yahoo.com/quote/%5EDJI/history?period1=475826400&period2=1542520800&interval=1mo&filter=history&frequency=1mo"
   ]
  },
  {
   "cell_type": "code",
   "execution_count": 3,
   "metadata": {},
   "outputs": [],
   "source": [
    "#DJI.head()\n",
    "DJI.columns = ['date', 'DJIopen', 'DJIhigh', 'DJIlow', 'DJIclose', 'DJIadjClose', 'DJIvolume']\n",
    "#DJI.head()"
   ]
  },
  {
   "cell_type": "markdown",
   "metadata": {},
   "source": [
    "### S&P 500\n",
    "https://finance.yahoo.com/quote/%5EGSPC/history?period1=-630957600&period2=1542520800&interval=1mo&filter=history&frequency=1mo"
   ]
  },
  {
   "cell_type": "code",
   "execution_count": 4,
   "metadata": {},
   "outputs": [],
   "source": [
    "#SP500.head()\n",
    "SP500.columns = ['date', 'SPopen', 'SPhigh', 'SPlow', 'SPclose', 'SPadjClose', 'SPvolume']\n",
    "#SP500.head()\n",
    "\n",
    "df = pd.merge(DJI,SP500, how = 'inner', on = 'date')\n",
    "#df.head()"
   ]
  },
  {
   "cell_type": "markdown",
   "metadata": {},
   "source": [
    "### Federal funds rate\n",
    "https://fred.stlouisfed.org/series/FEDFUNDS"
   ]
  },
  {
   "cell_type": "code",
   "execution_count": 5,
   "metadata": {},
   "outputs": [],
   "source": [
    "#FedFunds.head()\n",
    "FedFunds.columns = ['date', 'fedFundRate']\n",
    "#FedFunds.head()\n",
    "df = pd.merge(df,FedFunds, how = 'inner', on = 'date')\n",
    "#df.head()"
   ]
  },
  {
   "cell_type": "markdown",
   "metadata": {},
   "source": [
    "### Retired social security filings\n",
    "https://www.ssa.gov/OACT/ProgData/awards.html"
   ]
  },
  {
   "cell_type": "code",
   "execution_count": 6,
   "metadata": {},
   "outputs": [],
   "source": [
    "#SS.head()\n",
    "SS.columns = ['date', 'totalSSRetired', 'averageSSRetiredPay', 'totalMaleSSRetired', 'averageMaleSSRetiredPay', 'totalFemaleSSRetired', 'averageFemaleSSRetiredPay', 'DROPME']\n",
    "SS.drop('DROPME', axis = 1, inplace=True)\n",
    "#SS.head()\n",
    "\n",
    "adjDate = SS['date'].str.split(\"-\", n = 1, expand = True)\n",
    "#adjDate.head()\n",
    "adjDate['month'] = np.where(adjDate[0] == 'Jan', '-01-01'\n",
    "                               , np.where(adjDate[0] == 'Feb', '-02-01'\n",
    "                                          , np.where(adjDate[0] == 'Mar', '-03-01'\n",
    "                                                    ,np.where(adjDate[0] == 'Apr', '-04-01'\n",
    "                                                             ,np.where(adjDate[0] == 'May', '-05-01'\n",
    "                                                                      ,np.where(adjDate[0] == 'Jun', '-06-01'\n",
    "                                                                               ,np.where(adjDate[0] == 'Jul', '-07-01'\n",
    "                                                                                        ,np.where(adjDate[0] == 'Aug', '-08-01'\n",
    "                                                                                                 ,np.where(adjDate[0] == 'Sep', '-09-01'\n",
    "                                                                                                          ,np.where(adjDate[0] == 'Oct', '-10-01'\n",
    "                                                                                                                   ,np.where(adjDate[0] == 'Nov', '-11-01'\n",
    "                                                                                                                            ,np.where(adjDate[0] == 'Dec', '-12-01'\n",
    "                                                                                                                                     , 0))))))))))))\n",
    "adjDate['year'] = np.where(adjDate[1].astype(int) <= 18, '20'\n",
    "                        ,np.where(adjDate[1].astype(int) > 18, '19'\n",
    "                                 , 0))\n",
    "adjDate['combined'] = adjDate['year'] + adjDate[1] + adjDate['month']\n",
    "#adjDate.head()\n",
    "SS['date'] = adjDate['combined']\n",
    "#SS.head()\n",
    "df = pd.merge(df,SS, how = 'inner', on = 'date')\n",
    "#df.head()"
   ]
  },
  {
   "cell_type": "markdown",
   "metadata": {},
   "source": [
    "### CPI - Consumer Price Index for All Urban Consumers: All Items\n",
    "https://fred.stlouisfed.org/series/CPIAUCSL/"
   ]
  },
  {
   "cell_type": "code",
   "execution_count": 7,
   "metadata": {},
   "outputs": [],
   "source": [
    "#CPI.head()\n",
    "CPI.columns = ['date', 'cpi']\n",
    "df = pd.merge(df,CPI, how = 'inner', on = 'date')\n",
    "#df.head()"
   ]
  },
  {
   "cell_type": "markdown",
   "metadata": {},
   "source": [
    "## Write to file"
   ]
  },
  {
   "cell_type": "code",
   "execution_count": 8,
   "metadata": {},
   "outputs": [],
   "source": [
    "df.to_csv(path_or_buf = '~/Git/MachineLearningAndBigDataWithR/Data/assembled.csv', sep=',')"
   ]
  }
 ],
 "metadata": {
  "kernelspec": {
   "display_name": "Python 3",
   "language": "python",
   "name": "python3"
  },
  "language_info": {
   "codemirror_mode": {
    "name": "ipython",
    "version": 3
   },
   "file_extension": ".py",
   "mimetype": "text/x-python",
   "name": "python",
   "nbconvert_exporter": "python",
   "pygments_lexer": "ipython3",
   "version": "3.6.6"
  }
 },
 "nbformat": 4,
 "nbformat_minor": 2
}
