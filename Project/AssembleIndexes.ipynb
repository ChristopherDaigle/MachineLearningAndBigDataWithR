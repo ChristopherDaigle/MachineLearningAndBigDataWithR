{
 "cells": [
  {
   "cell_type": "code",
   "execution_count": 1,
   "metadata": {},
   "outputs": [],
   "source": [
    "import requests                  # handles the http interactions(http://docs.python-requests.org/en/master/) \n",
    "from bs4 import BeautifulSoup    # beautiful soup handles the html to text conversion and more\n",
    "import re                        # regular expressions are necessary for finding the crumb\n",
    "from datetime import datetime    # string to datetime object conversion\n",
    "from time import mktime          # mktime transforms datetime objects to unix timestamps\n",
    "import pandas as pd"
   ]
  },
  {
   "cell_type": "code",
   "execution_count": 2,
   "metadata": {},
   "outputs": [],
   "source": [
    "def _get_crumbs_and_cookies(stock):\n",
    "    \"\"\"\n",
    "    get crumb and cookies for historical data csv download from yahoo finance\n",
    "    \n",
    "    parameters: stock - short-handle identifier of the company \n",
    "    \n",
    "    returns a tuple of header, crumb and cookie\n",
    "    \"\"\"\n",
    "    \n",
    "    url = 'https://finance.yahoo.com/quote/{}/history'.format(stock)\n",
    "    with requests.session():\n",
    "        header = {'Connection': 'keep-alive',\n",
    "                   'Expires': '-1',\n",
    "                   'Upgrade-Insecure-Requests': '1',\n",
    "                   'User-Agent': 'Mozilla/5.0 (Macintosh; Intel Mac OS X 10_14) \\\n",
    "                   AppleWebKit/605.1.15 (KHTML, like Gecko) Version/12.0 Safari/605.1.15'\n",
    "                   }\n",
    "        \n",
    "        website = requests.get(url, headers=header)\n",
    "        soup = BeautifulSoup(website.text, 'lxml')\n",
    "        crumb = re.findall('\"CrumbStore\":{\"crumb\":\"(.+?)\"}', str(soup))\n",
    "\n",
    "        return (header, crumb[0], website.cookies)"
   ]
  },
  {
   "cell_type": "code",
   "execution_count": 3,
   "metadata": {},
   "outputs": [],
   "source": [
    "def convert_to_unix(date):\n",
    "    \"\"\"\n",
    "    converts date to unix timestamp\n",
    "    \n",
    "    parameters: date - in format (dd-mm-yyyy)\n",
    "    \n",
    "    returns integer unix timestamp\n",
    "    \"\"\"\n",
    "    datum = datetime.strptime(date, '%d-%m-%Y')\n",
    "    \n",
    "    return int(mktime(datum.timetuple()))"
   ]
  },
  {
   "cell_type": "code",
   "execution_count": 6,
   "metadata": {},
   "outputs": [],
   "source": [
    "def load_csv_data(stock, interval, day_begin, day_end):\n",
    "    \"\"\"\n",
    "    queries yahoo finance api to receive historical data in csv file format\n",
    "    \n",
    "    parameters: \n",
    "        stock - short-handle identifier of the company\n",
    "        \n",
    "        interval - 1d, 1wk, 1mo - daily, weekly monthly data\n",
    "        \n",
    "        day_begin - starting date for the historical data (format: dd-mm-yyyy)\n",
    "        \n",
    "        day_end - final date of the data (format: dd-mm-yyyy)\n",
    "    \n",
    "    returns a list of comma seperated value lines\n",
    "    \"\"\"\n",
    "    day_begin_unix = convert_to_unix(day_begin)\n",
    "    day_end_unix = convert_to_unix(day_end)\n",
    "    \n",
    "    header, crumb, cookies = _get_crumbs_and_cookies(stock)\n",
    "    \n",
    "    with requests.session():\n",
    "        url = 'https://query1.finance.yahoo.com/v7/finance/download/' \\\n",
    "              '{stock}?period1={day_begin}&period2={day_end}&interval={interval}&events=history&crumb={crumb}' \\\n",
    "              .format(stock=stock, day_begin=day_begin_unix, day_end=day_end_unix, interval=interval, crumb=crumb)\n",
    "                \n",
    "        website = requests.get(url, headers=header, cookies=cookies)\n",
    "       \n",
    "        return website.text.split('\\n')[:-1]"
   ]
  },
  {
   "cell_type": "code",
   "execution_count": 7,
   "metadata": {},
   "outputs": [
    {
     "ename": "IndexError",
     "evalue": "list index out of range",
     "output_type": "error",
     "traceback": [
      "\u001b[0;31m---------------------------------------------------------------------------\u001b[0m",
      "\u001b[0;31mIndexError\u001b[0m                                Traceback (most recent call last)",
      "\u001b[0;32m<ipython-input-7-f38eac355146>\u001b[0m in \u001b[0;36m<module>\u001b[0;34m\u001b[0m\n\u001b[0;32m----> 1\u001b[0;31m \u001b[0mload_csv_data\u001b[0m\u001b[0;34m(\u001b[0m\u001b[0;34m'DJI'\u001b[0m\u001b[0;34m,\u001b[0m \u001b[0minterval\u001b[0m\u001b[0;34m=\u001b[0m\u001b[0;34m'1d'\u001b[0m\u001b[0;34m,\u001b[0m \u001b[0mday_begin\u001b[0m\u001b[0;34m=\u001b[0m\u001b[0;34m'01-03-2018'\u001b[0m\u001b[0;34m,\u001b[0m \u001b[0mday_end\u001b[0m\u001b[0;34m=\u001b[0m\u001b[0;34m'28-03-2018'\u001b[0m\u001b[0;34m)\u001b[0m\u001b[0;34m\u001b[0m\u001b[0m\n\u001b[0m",
      "\u001b[0;32m<ipython-input-6-2fcff3aefc1d>\u001b[0m in \u001b[0;36mload_csv_data\u001b[0;34m(stock, interval, day_begin, day_end)\u001b[0m\n\u001b[1;32m     17\u001b[0m     \u001b[0mday_end_unix\u001b[0m \u001b[0;34m=\u001b[0m \u001b[0mconvert_to_unix\u001b[0m\u001b[0;34m(\u001b[0m\u001b[0mday_end\u001b[0m\u001b[0;34m)\u001b[0m\u001b[0;34m\u001b[0m\u001b[0m\n\u001b[1;32m     18\u001b[0m \u001b[0;34m\u001b[0m\u001b[0m\n\u001b[0;32m---> 19\u001b[0;31m     \u001b[0mheader\u001b[0m\u001b[0;34m,\u001b[0m \u001b[0mcrumb\u001b[0m\u001b[0;34m,\u001b[0m \u001b[0mcookies\u001b[0m \u001b[0;34m=\u001b[0m \u001b[0m_get_crumbs_and_cookies\u001b[0m\u001b[0;34m(\u001b[0m\u001b[0mstock\u001b[0m\u001b[0;34m)\u001b[0m\u001b[0;34m\u001b[0m\u001b[0m\n\u001b[0m\u001b[1;32m     20\u001b[0m \u001b[0;34m\u001b[0m\u001b[0m\n\u001b[1;32m     21\u001b[0m     \u001b[0;32mwith\u001b[0m \u001b[0mrequests\u001b[0m\u001b[0;34m.\u001b[0m\u001b[0msession\u001b[0m\u001b[0;34m(\u001b[0m\u001b[0;34m)\u001b[0m\u001b[0;34m:\u001b[0m\u001b[0;34m\u001b[0m\u001b[0m\n",
      "\u001b[0;32m<ipython-input-2-3b56bc63facd>\u001b[0m in \u001b[0;36m_get_crumbs_and_cookies\u001b[0;34m(stock)\u001b[0m\n\u001b[1;32m     21\u001b[0m         \u001b[0mcrumb\u001b[0m \u001b[0;34m=\u001b[0m \u001b[0mre\u001b[0m\u001b[0;34m.\u001b[0m\u001b[0mfindall\u001b[0m\u001b[0;34m(\u001b[0m\u001b[0;34m'\"CrumbStore\":{\"crumb\":\"(.+?)\"}'\u001b[0m\u001b[0;34m,\u001b[0m \u001b[0mstr\u001b[0m\u001b[0;34m(\u001b[0m\u001b[0msoup\u001b[0m\u001b[0;34m)\u001b[0m\u001b[0;34m)\u001b[0m\u001b[0;34m\u001b[0m\u001b[0m\n\u001b[1;32m     22\u001b[0m \u001b[0;34m\u001b[0m\u001b[0m\n\u001b[0;32m---> 23\u001b[0;31m         \u001b[0;32mreturn\u001b[0m \u001b[0;34m(\u001b[0m\u001b[0mheader\u001b[0m\u001b[0;34m,\u001b[0m \u001b[0mcrumb\u001b[0m\u001b[0;34m[\u001b[0m\u001b[0;36m0\u001b[0m\u001b[0;34m]\u001b[0m\u001b[0;34m,\u001b[0m \u001b[0mwebsite\u001b[0m\u001b[0;34m.\u001b[0m\u001b[0mcookies\u001b[0m\u001b[0;34m)\u001b[0m\u001b[0;34m\u001b[0m\u001b[0m\n\u001b[0m",
      "\u001b[0;31mIndexError\u001b[0m: list index out of range"
     ]
    }
   ],
   "source": [
    "load_csv_data('DJI', interval='1d', day_begin='01-03-2018', day_end='28-03-2018')"
   ]
  },
  {
   "cell_type": "code",
   "execution_count": null,
   "metadata": {},
   "outputs": [],
   "source": []
  }
 ],
 "metadata": {
  "kernelspec": {
   "display_name": "Python 3",
   "language": "python",
   "name": "python3"
  },
  "language_info": {
   "codemirror_mode": {
    "name": "ipython",
    "version": 3
   },
   "file_extension": ".py",
   "mimetype": "text/x-python",
   "name": "python",
   "nbconvert_exporter": "python",
   "pygments_lexer": "ipython3",
   "version": "3.6.6"
  }
 },
 "nbformat": 4,
 "nbformat_minor": 2
}
