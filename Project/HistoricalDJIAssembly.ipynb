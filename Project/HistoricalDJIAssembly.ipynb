{
 "cells": [
  {
   "cell_type": "code",
   "execution_count": 21,
   "metadata": {},
   "outputs": [],
   "source": [
    "import requests\n",
    "from bs4 import BeautifulSoup\n",
    "import numpy as np\n",
    "import pandas as pd\n",
    "import datetime\n",
    "from time import mktime "
   ]
  },
  {
   "cell_type": "markdown",
   "metadata": {},
   "source": [
    "# User input for iterating dataset creation"
   ]
  },
  {
   "cell_type": "code",
   "execution_count": 22,
   "metadata": {},
   "outputs": [
    {
     "name": "stdout",
     "output_type": "stream",
     "text": [
      "Enter the start date of interest (dd-mm-yyyy): 01-01-2000\n",
      "Enter the end date of interest (dd-mm-yyyy): 02-01-2000\n",
      "Enter the ticker symbol of interest: ^DJI\n",
      "PROBLME\n"
     ]
    }
   ],
   "source": [
    "def main():\n",
    "\n",
    "\n",
    "    def userInput():\n",
    "        startDate = input('Enter the start date of interest (dd-mm-yyyy): ')\n",
    "        day1, month1, year1 = map(int, startDate.split('-'))\n",
    "        startDate = datetime.date(year1, month1, day1)\n",
    "    \n",
    "        endDate = input('Enter the end date of interest (dd-mm-yyyy): ')\n",
    "        endDate = '31-10-2018'\n",
    "        day2, month2, year2 = map(int, endDate.split('-'))\n",
    "        endDate = datetime.date(year2, month2, day2)\n",
    "        stock = input('Enter the ticker symbol of interest: ')\n",
    "    \n",
    "        return (startDate, endDate, stock)\n",
    "\n",
    "\n",
    "    def _get_crumbs_and_cookies(stock):\n",
    "        \"\"\"\n",
    "        get crumb and cookies for historical data csv download from yahoo finance\n",
    "        parameters: stock - short-handle identifier of the company \n",
    "        returns a tuple of header, crumb and cookie\n",
    "        \"\"\"\n",
    "    \n",
    "        url = 'https://finance.yahoo.com/quote/{}/history'.format(stock)\n",
    "        with requests.session():\n",
    "            header = {'Connection': 'keep-alive',\n",
    "                       'Expires': '-1',\n",
    "                       'Upgrade-Insecure-Requests': '1',\n",
    "                       'User-Agent': 'Mozilla/5.0 (Macintosh; Intel Mac OS X 10_14) \\\n",
    "                       AppleWebKit/605.1.15 (KHTML, like Gecko) Version/12.0 Safari/605.1.15'\n",
    "                       }\n",
    "        \n",
    "            website = requests.get(url, headers=header)\n",
    "            soup = BeautifulSoup(website.text, 'lxml')\n",
    "            crumb = re.findall('\"CrumbStore\":{\"crumb\":\"(.+?)\"}', str(soup))\n",
    "\n",
    "            return (header, crumb[0], website.cookies)\n",
    "    \n",
    "    \n",
    "    def load_csv_data():\n",
    "        \"\"\"\n",
    "        queries yahoo finance api to receive historical data in csv file format\n",
    "        parameters: \n",
    "            stock - short-handle identifier of the company\n",
    "            interval - 1d, 1wk, 1mo - daily, weekly monthly data\n",
    "            day_begin - starting date for the historical data (format: dd-mm-yyyy)\n",
    "            day_end - final date of the data (format: dd-mm-yyyy)\n",
    "        returns a list of comma seperated value lines\n",
    "        \"\"\"\n",
    "        userInput()\n",
    "        header, crumb, cookies = _get_crumbs_and_cookies(stock)\n",
    "    \n",
    "        with requests.session():\n",
    "            url = 'https://query1.finance.yahoo.com/v7/finance/download/' \\\n",
    "                  '{stock}?period1={day_begin}&period2={day_end}&interval={interval}&events=history&crumb={crumb}' \\\n",
    "                  .format(stock=stock, day_begin=startDate, day_end=endDate, interval=interval, crumb=crumb)\n",
    "                \n",
    "            website = requests.get(url, headers=header, cookies=cookies)\n",
    "       \n",
    "            return website.text.split('\\n')[:-1]\n",
    "\n",
    "    load_csv_data()\n",
    "\n",
    "try:\n",
    "    main()\n",
    "except:\n",
    "    print('PROBLME')"
   ]
  },
  {
   "cell_type": "code",
   "execution_count": 24,
   "metadata": {},
   "outputs": [
    {
     "name": "stdout",
     "output_type": "stream",
     "text": [
      "Enter the start date of interest (dd-mm-yyyy): 01-01-2000\n",
      "Enter the end date of interest (dd-mm-yyyy): 02-01-2000\n",
      "Enter the ticker symbol of interest: ^DJI\n"
     ]
    },
    {
     "data": {
      "text/plain": [
       "[datetime.date(2000, 1, 1), datetime.date(2018, 10, 31), '^DJI']"
      ]
     },
     "execution_count": 24,
     "metadata": {},
     "output_type": "execute_result"
    }
   ],
   "source": [
    "    def userInput():\n",
    "        \n",
    "        startDate = input('Enter the start date of interest (dd-mm-yyyy): ')\n",
    "        day1, month1, year1 = map(int, startDate.split('-'))\n",
    "        startDate = datetime.date(year1, month1, day1)\n",
    "    \n",
    "        endDate = input('Enter the end date of interest (dd-mm-yyyy): ')\n",
    "        endDate = '31-10-2018'\n",
    "        day2, month2, year2 = map(int, endDate.split('-'))\n",
    "        endDate = datetime.date(year2, month2, day2)\n",
    "        stock = input('Enter the ticker symbol of interest: ')\n",
    "    \n",
    "        return [startDate, endDate, stock]\n",
    "userInput()"
   ]
  },
  {
   "cell_type": "code",
   "execution_count": null,
   "metadata": {},
   "outputs": [],
   "source": [
    " url = 'https://query1.finance.yahoo.com/v7/finance/download/{stock}?period1={startDate}&period2={endDate}&interval=1d&events=history&crumb=kbkFYmTrryR'.format(stock = stock, )"
   ]
  },
  {
   "cell_type": "markdown",
   "metadata": {},
   "source": [
    "## DJI"
   ]
  },
  {
   "cell_type": "code",
   "execution_count": 45,
   "metadata": {},
   "outputs": [],
   "source": [
    "pageLink = 'https://finance.yahoo.com/quote/^DJI/history?period1=1509422400&period2=1540958400&interval=1d&filter=history&frequency=1d'\n",
    "pageResponse = requests.get(pageLink)\n",
    "pageContent = BeautifulSoup(pageResponse.content, 'html.parser')\n",
    "tableContent = []\n",
    "tablesHead = pageContent.find_all('thead')[0]\n",
    "tablesBody = pageContent.find_all('tbody')[0]"
   ]
  },
  {
   "cell_type": "code",
   "execution_count": 46,
   "metadata": {},
   "outputs": [],
   "source": [
    "# Table headings\n",
    "headingTags = tablesHead.select(\"span\")\n",
    "headings = [i.get_text() for i in headingTags]\n",
    "# Table content\n",
    "bodyTags = tablesBody.select(\"span\")\n",
    "bodies = [i.get_text() for i in bodyTags]\n",
    "bodies = np.reshape(bodies,(int((len(bodies) / 7)),7))\n",
    "bodiesDF = pd.DataFrame(bodies)"
   ]
  },
  {
   "cell_type": "code",
   "execution_count": 47,
   "metadata": {},
   "outputs": [],
   "source": [
    "DJI = pd.DataFrame({'Date': bodiesDF[0], 'Open': bodiesDF[1], \n",
    "                    'High':bodiesDF[2], 'Low':bodiesDF[3], \n",
    "                    'Close':bodiesDF[4], 'AdjClose':bodiesDF[5], \n",
    "                    'Volume':bodiesDF[6]})"
   ]
  },
  {
   "cell_type": "code",
   "execution_count": 1,
   "metadata": {},
   "outputs": [
    {
     "ename": "NameError",
     "evalue": "name 'DJI' is not defined",
     "output_type": "error",
     "traceback": [
      "\u001b[0;31m---------------------------------------------------------------------------\u001b[0m",
      "\u001b[0;31mNameError\u001b[0m                                 Traceback (most recent call last)",
      "\u001b[0;32m<ipython-input-1-193c93dec5b5>\u001b[0m in \u001b[0;36m<module>\u001b[0;34m\u001b[0m\n\u001b[0;32m----> 1\u001b[0;31m \u001b[0mDJI\u001b[0m\u001b[0;34m.\u001b[0m\u001b[0mhead\u001b[0m\u001b[0;34m(\u001b[0m\u001b[0;34m)\u001b[0m\u001b[0;34m\u001b[0m\u001b[0m\n\u001b[0m",
      "\u001b[0;31mNameError\u001b[0m: name 'DJI' is not defined"
     ]
    }
   ],
   "source": [
    "DJI.head()"
   ]
  },
  {
   "cell_type": "code",
   "execution_count": 2,
   "metadata": {},
   "outputs": [
    {
     "name": "stdout",
     "output_type": "stream",
     "text": [
      "Hello: t\n"
     ]
    },
    {
     "data": {
      "text/plain": [
       "'t'"
      ]
     },
     "execution_count": 2,
     "metadata": {},
     "output_type": "execute_result"
    }
   ],
   "source": [
    "input('Hello: ')"
   ]
  },
  {
   "cell_type": "code",
   "execution_count": null,
   "metadata": {},
   "outputs": [],
   "source": []
  },
  {
   "cell_type": "code",
   "execution_count": null,
   "metadata": {},
   "outputs": [],
   "source": []
  },
  {
   "cell_type": "code",
   "execution_count": null,
   "metadata": {},
   "outputs": [],
   "source": []
  },
  {
   "cell_type": "code",
   "execution_count": null,
   "metadata": {},
   "outputs": [],
   "source": []
  }
 ],
 "metadata": {
  "kernelspec": {
   "display_name": "Python 3",
   "language": "python",
   "name": "python3"
  },
  "language_info": {
   "codemirror_mode": {
    "name": "ipython",
    "version": 3
   },
   "file_extension": ".py",
   "mimetype": "text/x-python",
   "name": "python",
   "nbconvert_exporter": "python",
   "pygments_lexer": "ipython3",
   "version": "3.6.6"
  }
 },
 "nbformat": 4,
 "nbformat_minor": 2
}
