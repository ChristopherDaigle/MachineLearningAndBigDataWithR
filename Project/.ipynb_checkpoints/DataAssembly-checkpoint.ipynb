{
 "cells": [
  {
   "cell_type": "markdown",
   "metadata": {},
   "source": [
    "# Data Assembly"
   ]
  },
  {
   "cell_type": "code",
   "execution_count": 1,
   "metadata": {},
   "outputs": [],
   "source": [
    "import pandas as pd\n",
    "import numpy as np"
   ]
  },
  {
   "cell_type": "code",
   "execution_count": 2,
   "metadata": {},
   "outputs": [],
   "source": [
    "DJI = pd.read_csv(\n",
    "    '~/Git/MachineLearningAndBigDataWithR/Data/^DJIMonthly.csv'\n",
    "    , sep = ',')\n",
    "SP500 = pd.read_csv(\n",
    "    '~/Git/MachineLearningAndBigDataWithR/Data/^GSPCMonthly.csv'\n",
    "    , sep = ',')\n",
    "FedFunds = pd.read_csv(\n",
    "    '~/Git/MachineLearningAndBigDataWithR/Data/FEDFUNDS.csv'\n",
    "    , sep = ',')\n",
    "SS = pd.read_csv(\n",
    "    '~/Git/MachineLearningAndBigDataWithR/Data/SSRetired.csv'\n",
    "    , sep = ',')\n",
    "CPI = pd.read_csv(\n",
    "    '~/Git/MachineLearningAndBigDataWithR/Data/CPIAUCSL.csv'\n",
    "    , sep = ',')"
   ]
  },
  {
   "cell_type": "markdown",
   "metadata": {},
   "source": [
    "### DJI\n",
    "https://finance.yahoo.com/quote/%5EDJI/history?period1=475826400&period2=1542520800&interval=1mo&filter=history&frequency=1mo"
   ]
  },
  {
   "cell_type": "code",
   "execution_count": 3,
   "metadata": {},
   "outputs": [],
   "source": [
    "#DJI.head()\n",
    "DJI.columns = ['date', 'DJIopen', 'DJIhigh', 'DJIlow', 'DJIclose', 'DJIadjClose', 'DJIvolume']\n",
    "#DJI.head()"
   ]
  },
  {
   "cell_type": "markdown",
   "metadata": {},
   "source": [
    "### S&P 500\n",
    "https://finance.yahoo.com/quote/%5EGSPC/history?period1=-630957600&period2=1542520800&interval=1mo&filter=history&frequency=1mo"
   ]
  },
  {
   "cell_type": "code",
   "execution_count": 4,
   "metadata": {},
   "outputs": [],
   "source": [
    "#SP500.head()\n",
    "SP500.columns = ['date', 'SPopen', 'SPhigh', 'SPlow', 'SPclose', 'SPadjClose', 'SPvolume']\n",
    "#SP500.head()\n",
    "\n",
    "df = pd.merge(DJI,SP500, how = 'inner', on = 'date')\n",
    "#df.head()"
   ]
  },
  {
   "cell_type": "markdown",
   "metadata": {},
   "source": [
    "### Federal funds rate\n",
    "https://fred.stlouisfed.org/series/FEDFUNDS"
   ]
  },
  {
   "cell_type": "code",
   "execution_count": 5,
   "metadata": {},
   "outputs": [],
   "source": [
    "#FedFunds.head()\n",
    "FedFunds.columns = ['date', 'fedFundRate']\n",
    "#FedFunds.head()\n",
    "df = pd.merge(df,FedFunds, how = 'inner', on = 'date')\n",
    "#df.head()"
   ]
  },
  {
   "cell_type": "markdown",
   "metadata": {},
   "source": [
    "### Retired social security filings\n",
    "https://www.ssa.gov/OACT/ProgData/awards.html"
   ]
  },
  {
   "cell_type": "code",
   "execution_count": 6,
   "metadata": {},
   "outputs": [],
   "source": [
    "#SS.head()\n",
    "SS.columns = ['date', 'totalSSRetired', 'averageSSRetiredPay', 'totalMaleSSRetired', 'averageMaleSSRetiredPay', 'totalFemaleSSRetired', 'averageFemaleSSRetiredPay', 'DROPME']\n",
    "SS.drop('DROPME', axis = 1, inplace=True)\n",
    "#SS.head()\n",
    "\n",
    "adjDate = SS['date'].str.split(\"-\", n = 1, expand = True)\n",
    "#adjDate.head()\n",
    "adjDate['combined'] = np.where(adjDate[0] == 'Jan', '01-01'\n",
    "                               , np.where(adjDate[0] == 'Feb', '02-01'\n",
    "                                          , np.where(adjDate[0] == 'Mar', '03-01'\n",
    "                                                    ,np.where(adjDate[0] == 'Apr', '04-01'\n",
    "                                                             ,np.where(adjDate[0] == 'May', '05-01'\n",
    "                                                                      ,np.where(adjDate[0] == 'Jun', '06-01'\n",
    "                                                                               ,np.where(adjDate[0] == 'Jul', '07-01'\n",
    "                                                                                        ,np.where(adjDate[0] == 'Aug', '08-01'\n",
    "                                                                                                 ,np.where(adjDate[0] == 'Sep', '09-01'\n",
    "                                                                                                          ,np.where(adjDate[0] == 'Oct', '10-01'\n",
    "                                                                                                                   ,np.where(adjDate[0] == 'Nov', '11-01'\n",
    "                                                                                                                            ,np.where(adjDate[0] == 'Dec', '12-01'\n",
    "                                                                                                                                     , 0))))))))))))\n",
    "adjDate['combined'] = '19' + adjDate[1] + '-' + adjDate['combined']\n",
    "\n",
    "SS['date'] = adjDate['combined']\n",
    "\n",
    "df = pd.merge(df,SS, how = 'inner', on = 'date')\n",
    "#df.head()"
   ]
  },
  {
   "cell_type": "markdown",
   "metadata": {},
   "source": [
    "### CPI - Consumer Price Index for All Urban Consumers: All Items\n",
    "https://fred.stlouisfed.org/series/CPIAUCSL/"
   ]
  },
  {
   "cell_type": "code",
   "execution_count": 7,
   "metadata": {},
   "outputs": [
    {
     "data": {
      "text/html": [
       "<div>\n",
       "<style scoped>\n",
       "    .dataframe tbody tr th:only-of-type {\n",
       "        vertical-align: middle;\n",
       "    }\n",
       "\n",
       "    .dataframe tbody tr th {\n",
       "        vertical-align: top;\n",
       "    }\n",
       "\n",
       "    .dataframe thead th {\n",
       "        text-align: right;\n",
       "    }\n",
       "</style>\n",
       "<table border=\"1\" class=\"dataframe\">\n",
       "  <thead>\n",
       "    <tr style=\"text-align: right;\">\n",
       "      <th></th>\n",
       "      <th>date</th>\n",
       "      <th>DJIopen</th>\n",
       "      <th>DJIhigh</th>\n",
       "      <th>DJIlow</th>\n",
       "      <th>DJIclose</th>\n",
       "      <th>DJIadjClose</th>\n",
       "      <th>DJIvolume</th>\n",
       "      <th>SPopen</th>\n",
       "      <th>SPhigh</th>\n",
       "      <th>SPlow</th>\n",
       "      <th>...</th>\n",
       "      <th>SPadjClose</th>\n",
       "      <th>SPvolume</th>\n",
       "      <th>fedFundRate</th>\n",
       "      <th>totalSSRetired</th>\n",
       "      <th>averageSSRetiredPay</th>\n",
       "      <th>totalMaleSSRetired</th>\n",
       "      <th>averageMaleSSRetiredPay</th>\n",
       "      <th>totalFemaleSSRetired</th>\n",
       "      <th>averageFemaleSSRetiredPay</th>\n",
       "      <th>cpi</th>\n",
       "    </tr>\n",
       "  </thead>\n",
       "  <tbody>\n",
       "    <tr>\n",
       "      <th>0</th>\n",
       "      <td>1985-01-01</td>\n",
       "      <td>1277.719971</td>\n",
       "      <td>1305.099976</td>\n",
       "      <td>1266.890015</td>\n",
       "      <td>1286.770020</td>\n",
       "      <td>1286.770020</td>\n",
       "      <td>44450000</td>\n",
       "      <td>167.199997</td>\n",
       "      <td>180.270004</td>\n",
       "      <td>163.360001</td>\n",
       "      <td>...</td>\n",
       "      <td>179.630005</td>\n",
       "      <td>2673710000</td>\n",
       "      <td>8.35</td>\n",
       "      <td>196,866</td>\n",
       "      <td>$452.13</td>\n",
       "      <td>120,796</td>\n",
       "      <td>$523.47</td>\n",
       "      <td>76,070</td>\n",
       "      <td>$338.85</td>\n",
       "      <td>105.7</td>\n",
       "    </tr>\n",
       "    <tr>\n",
       "      <th>1</th>\n",
       "      <td>1985-02-01</td>\n",
       "      <td>1276.939941</td>\n",
       "      <td>1307.530029</td>\n",
       "      <td>1263.910034</td>\n",
       "      <td>1284.010010</td>\n",
       "      <td>1284.010010</td>\n",
       "      <td>207300000</td>\n",
       "      <td>179.630005</td>\n",
       "      <td>183.949997</td>\n",
       "      <td>177.750000</td>\n",
       "      <td>...</td>\n",
       "      <td>181.179993</td>\n",
       "      <td>2194620000</td>\n",
       "      <td>8.50</td>\n",
       "      <td>132,364</td>\n",
       "      <td>$431.50</td>\n",
       "      <td>77,248</td>\n",
       "      <td>$511.91</td>\n",
       "      <td>55,116</td>\n",
       "      <td>$318.81</td>\n",
       "      <td>106.3</td>\n",
       "    </tr>\n",
       "    <tr>\n",
       "      <th>2</th>\n",
       "      <td>1985-03-01</td>\n",
       "      <td>1285.339966</td>\n",
       "      <td>1309.959961</td>\n",
       "      <td>1242.819946</td>\n",
       "      <td>1266.780029</td>\n",
       "      <td>1266.780029</td>\n",
       "      <td>201050000</td>\n",
       "      <td>181.179993</td>\n",
       "      <td>183.889999</td>\n",
       "      <td>176.529999</td>\n",
       "      <td>...</td>\n",
       "      <td>180.660004</td>\n",
       "      <td>2153090000</td>\n",
       "      <td>8.58</td>\n",
       "      <td>157,043</td>\n",
       "      <td>$431.54</td>\n",
       "      <td>91,422</td>\n",
       "      <td>$508.91</td>\n",
       "      <td>65,621</td>\n",
       "      <td>$323.76</td>\n",
       "      <td>106.8</td>\n",
       "    </tr>\n",
       "    <tr>\n",
       "      <th>3</th>\n",
       "      <td>1985-04-01</td>\n",
       "      <td>1264.800049</td>\n",
       "      <td>1290.300049</td>\n",
       "      <td>1245.800049</td>\n",
       "      <td>1258.060059</td>\n",
       "      <td>1258.060059</td>\n",
       "      <td>187110000</td>\n",
       "      <td>180.660004</td>\n",
       "      <td>183.610001</td>\n",
       "      <td>177.860001</td>\n",
       "      <td>...</td>\n",
       "      <td>179.830002</td>\n",
       "      <td>1981880000</td>\n",
       "      <td>8.27</td>\n",
       "      <td>150,053</td>\n",
       "      <td>$427.86</td>\n",
       "      <td>87,247</td>\n",
       "      <td>$505.74</td>\n",
       "      <td>62,806</td>\n",
       "      <td>$319.66</td>\n",
       "      <td>107.0</td>\n",
       "    </tr>\n",
       "    <tr>\n",
       "      <th>4</th>\n",
       "      <td>1985-05-01</td>\n",
       "      <td>1257.180054</td>\n",
       "      <td>1320.790039</td>\n",
       "      <td>1235.530029</td>\n",
       "      <td>1315.410034</td>\n",
       "      <td>1315.410034</td>\n",
       "      <td>242250000</td>\n",
       "      <td>179.830002</td>\n",
       "      <td>189.979996</td>\n",
       "      <td>178.350006</td>\n",
       "      <td>...</td>\n",
       "      <td>189.550003</td>\n",
       "      <td>2350340000</td>\n",
       "      <td>7.97</td>\n",
       "      <td>139,229</td>\n",
       "      <td>$427.62</td>\n",
       "      <td>81,120</td>\n",
       "      <td>$505.40</td>\n",
       "      <td>58,109</td>\n",
       "      <td>$319.04</td>\n",
       "      <td>107.2</td>\n",
       "    </tr>\n",
       "  </tbody>\n",
       "</table>\n",
       "<p>5 rows × 21 columns</p>\n",
       "</div>"
      ],
      "text/plain": [
       "         date      DJIopen      DJIhigh       DJIlow     DJIclose  \\\n",
       "0  1985-01-01  1277.719971  1305.099976  1266.890015  1286.770020   \n",
       "1  1985-02-01  1276.939941  1307.530029  1263.910034  1284.010010   \n",
       "2  1985-03-01  1285.339966  1309.959961  1242.819946  1266.780029   \n",
       "3  1985-04-01  1264.800049  1290.300049  1245.800049  1258.060059   \n",
       "4  1985-05-01  1257.180054  1320.790039  1235.530029  1315.410034   \n",
       "\n",
       "   DJIadjClose  DJIvolume      SPopen      SPhigh       SPlow  ...    \\\n",
       "0  1286.770020   44450000  167.199997  180.270004  163.360001  ...     \n",
       "1  1284.010010  207300000  179.630005  183.949997  177.750000  ...     \n",
       "2  1266.780029  201050000  181.179993  183.889999  176.529999  ...     \n",
       "3  1258.060059  187110000  180.660004  183.610001  177.860001  ...     \n",
       "4  1315.410034  242250000  179.830002  189.979996  178.350006  ...     \n",
       "\n",
       "   SPadjClose    SPvolume  fedFundRate  totalSSRetired averageSSRetiredPay  \\\n",
       "0  179.630005  2673710000         8.35         196,866            $452.13    \n",
       "1  181.179993  2194620000         8.50         132,364            $431.50    \n",
       "2  180.660004  2153090000         8.58         157,043            $431.54    \n",
       "3  179.830002  1981880000         8.27         150,053            $427.86    \n",
       "4  189.550003  2350340000         7.97         139,229            $427.62    \n",
       "\n",
       "  totalMaleSSRetired averageMaleSSRetiredPay totalFemaleSSRetired  \\\n",
       "0            120,796                $523.47                76,070   \n",
       "1             77,248                $511.91                55,116   \n",
       "2             91,422                $508.91                65,621   \n",
       "3             87,247                $505.74                62,806   \n",
       "4             81,120                $505.40                58,109   \n",
       "\n",
       "  averageFemaleSSRetiredPay    cpi  \n",
       "0                  $338.85   105.7  \n",
       "1                  $318.81   106.3  \n",
       "2                  $323.76   106.8  \n",
       "3                  $319.66   107.0  \n",
       "4                  $319.04   107.2  \n",
       "\n",
       "[5 rows x 21 columns]"
      ]
     },
     "execution_count": 7,
     "metadata": {},
     "output_type": "execute_result"
    }
   ],
   "source": [
    "#CPI.head()\n",
    "CPI.columns = ['date', 'cpi']\n",
    "df = pd.merge(df,CPI, how = 'inner', on = 'date')\n",
    "df.head()"
   ]
  },
  {
   "cell_type": "markdown",
   "metadata": {},
   "source": [
    "## Write to file"
   ]
  },
  {
   "cell_type": "code",
   "execution_count": 8,
   "metadata": {},
   "outputs": [],
   "source": [
    "df.to_csv(path_or_buf = '~/Git/MachineLearningAndBigDataWithR/Data/assembled.csv', sep=',')"
   ]
  }
 ],
 "metadata": {
  "kernelspec": {
   "display_name": "Python 3",
   "language": "python",
   "name": "python3"
  },
  "language_info": {
   "codemirror_mode": {
    "name": "ipython",
    "version": 3
   },
   "file_extension": ".py",
   "mimetype": "text/x-python",
   "name": "python",
   "nbconvert_exporter": "python",
   "pygments_lexer": "ipython3",
   "version": "3.6.6"
  }
 },
 "nbformat": 4,
 "nbformat_minor": 2
}
